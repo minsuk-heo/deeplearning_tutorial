{
 "cells": [
  {
   "cell_type": "markdown",
   "id": "22d184ad",
   "metadata": {},
   "source": [
    "<a href=\"https://github.com/minsuk-heo/deeplearning_tutorial/blob/main/1.Tensor.ipynb\" target=\"_parent\"><img src=\"https://colab.research.google.com/assets/colab-badge.svg\" alt=\"Open In Colab\"/></a>"
   ]
  },
  {
   "cell_type": "markdown",
   "id": "92d1fdcc",
   "metadata": {},
   "source": [
    "# What is Tensor?\n",
    "In deep learning, a tensor is an object represented as an n-dimensional array of numbers.          "
   ]
  },
  {
   "cell_type": "markdown",
   "id": "438eb9d4",
   "metadata": {},
   "source": [
    "# Why Tensor?\n",
    "Most Deep Learning functions expect tensors as inputs, because Tensors can be used to represent various types of data, including images, audio, and text.\n",
    "\n",
    "Tensors have several important properties that make them useful for deep learning."
   ]
  },
  {
   "cell_type": "markdown",
   "id": "c2e14244",
   "metadata": {},
   "source": [
    "# Property 1. Rank\n",
    "Rank: The number of dimensions of a tensor is referred to as its rank. \n",
    "\n",
    "For example, a 2D tensor (i.e., a matrix) has a rank of 2, \n",
    "while a 3D tensor has a rank of 3."
   ]
  },
  {
   "cell_type": "markdown",
   "id": "4e0fc115",
   "metadata": {},
   "source": [
    "### Numpy Codes"
   ]
  },
  {
   "cell_type": "code",
   "execution_count": 1,
   "id": "d875aca0",
   "metadata": {},
   "outputs": [],
   "source": [
    "import numpy as np"
   ]
  },
  {
   "cell_type": "code",
   "execution_count": 2,
   "id": "76f6653b",
   "metadata": {},
   "outputs": [],
   "source": [
    "# 0D Tensor\n",
    "tensor_0d = np.array(5)\n",
    "# 1D Tensor\n",
    "tensor_1d = np.array([1, 2, 3, 4, 5])\n",
    "# 2D Tensor\n",
    "tensor_2d = np.array([[1, 2, 3], [4, 5, 6], [7, 8, 9]])\n",
    "# 3D Tensor\n",
    "tensor_3d = np.array([[[1, 2], [3, 4]], [[5, 6], [7, 8]]])"
   ]
  },
  {
   "cell_type": "markdown",
   "id": "6fcdb251",
   "metadata": {},
   "source": [
    "# Property 2: Shape\n",
    "Shape: The shape of a tensor describes the number of elements along each dimension. \n",
    "\n",
    "For example, a 2D tensor with 3 rows and 4 columns has a shape of (3, 4)."
   ]
  },
  {
   "cell_type": "code",
   "execution_count": 3,
   "id": "4cb25032",
   "metadata": {},
   "outputs": [
    {
     "name": "stdout",
     "output_type": "stream",
     "text": [
      "0D Tensor: ()\n",
      "1D Tensor: (5,)\n",
      "2D Tensor: (3, 3)\n",
      "3D Tensor: (2, 2, 2)\n"
     ]
    }
   ],
   "source": [
    "print(f\"0D Tensor: {tensor_0d.shape}\")\n",
    "print(f\"1D Tensor: {tensor_1d.shape}\")\n",
    "print(f\"2D Tensor: {tensor_2d.shape}\")\n",
    "print(f\"3D Tensor: {tensor_3d.shape}\")"
   ]
  },
  {
   "cell_type": "markdown",
   "id": "6a8269fe",
   "metadata": {},
   "source": [
    "# Property 3. Data Type\n",
    "Tensors can be represented using various data types, such as integers or floats.\n",
    "\n",
    "The choice of data type can have an impact on the precision and the size of the deep learning model."
   ]
  },
  {
   "cell_type": "code",
   "execution_count": 4,
   "id": "2896c912",
   "metadata": {},
   "outputs": [
    {
     "name": "stdout",
     "output_type": "stream",
     "text": [
      "int64 tensor: 16 bytes\n",
      "float64 tensor: 32 bytes\n"
     ]
    }
   ],
   "source": [
    "# Create an int64 tensor\n",
    "int_tensor = np.array([[1, 2], [3, 4]], dtype=np.int32)\n",
    "int_nbytes = int_tensor.nbytes\n",
    "\n",
    "# Create a float64 tensor\n",
    "float_tensor = np.array([[1.0, 2.0], [3.0, 4.0]], dtype=np.float64)\n",
    "float_nbytes = float_tensor.nbytes\n",
    "\n",
    "print(f\"int64 tensor: {int_nbytes} bytes\")\n",
    "print(f\"float64 tensor: {float_nbytes} bytes\")"
   ]
  },
  {
   "cell_type": "code",
   "execution_count": 5,
   "id": "31924a53",
   "metadata": {},
   "outputs": [
    {
     "name": "stdout",
     "output_type": "stream",
     "text": [
      "int_tensor data type: int32\n",
      "float_tensor data type: float64\n"
     ]
    }
   ],
   "source": [
    "# Check the data type of the tensor\n",
    "data_type = int_tensor.dtype\n",
    "print(\"int_tensor data type:\", data_type)\n",
    "\n",
    "# Check the data type of the tensor\n",
    "data_type = float_tensor.dtype\n",
    "print(\"float_tensor data type:\", data_type)"
   ]
  },
  {
   "cell_type": "markdown",
   "id": "a1fe7f0b",
   "metadata": {},
   "source": [
    "### Pytorch code"
   ]
  },
  {
   "cell_type": "code",
   "execution_count": 6,
   "id": "810dfa8c",
   "metadata": {},
   "outputs": [
    {
     "name": "stdout",
     "output_type": "stream",
     "text": [
      "0D Tensor:\n",
      "tensor(7)\n",
      "Shape: torch.Size([])\n"
     ]
    }
   ],
   "source": [
    "import torch\n",
    "\n",
    "# 0-dimensional tensor (scalar)\n",
    "tensor_0d = torch.tensor(7)\n",
    "print(\"0D Tensor:\")\n",
    "print(tensor_0d)\n",
    "print(\"Shape:\", tensor_0d.shape)"
   ]
  },
  {
   "cell_type": "code",
   "execution_count": 7,
   "id": "321476aa",
   "metadata": {},
   "outputs": [
    {
     "name": "stdout",
     "output_type": "stream",
     "text": [
      "1D Tensor:\n",
      "tensor([1, 2, 3, 4, 5])\n",
      "Shape: torch.Size([5])\n"
     ]
    }
   ],
   "source": [
    "# 1-dimensional tensor (vector)\n",
    "tensor_1d = torch.tensor([1, 2, 3, 4, 5])\n",
    "print(\"1D Tensor:\")\n",
    "print(tensor_1d)\n",
    "print(\"Shape:\", tensor_1d.shape)"
   ]
  },
  {
   "cell_type": "code",
   "execution_count": 8,
   "id": "1b3f62ae",
   "metadata": {},
   "outputs": [
    {
     "name": "stdout",
     "output_type": "stream",
     "text": [
      "2D Tensor:\n",
      "tensor([[1, 2, 3],\n",
      "        [4, 5, 6]])\n",
      "Shape: torch.Size([2, 3])\n"
     ]
    }
   ],
   "source": [
    "# 2-dimensional tensor (matrix)\n",
    "tensor_2d = torch.tensor([[1, 2, 3], [4, 5, 6]])\n",
    "print(\"2D Tensor:\")\n",
    "print(tensor_2d)\n",
    "print(\"Shape:\", tensor_2d.shape)"
   ]
  },
  {
   "cell_type": "code",
   "execution_count": 9,
   "id": "17be0d79",
   "metadata": {},
   "outputs": [
    {
     "name": "stdout",
     "output_type": "stream",
     "text": [
      "3D Tensor:\n",
      "tensor([[[1, 2],\n",
      "         [3, 4]],\n",
      "\n",
      "        [[5, 6],\n",
      "         [7, 8]]])\n",
      "Shape: torch.Size([2, 2, 2])\n"
     ]
    }
   ],
   "source": [
    "# 3-dimensional tensor\n",
    "tensor_3d = torch.tensor([[[1, 2], [3, 4]], [[5, 6], [7, 8]]])\n",
    "print(\"3D Tensor:\")\n",
    "print(tensor_3d)\n",
    "print(\"Shape:\", tensor_3d.shape)"
   ]
  },
  {
   "cell_type": "code",
   "execution_count": 10,
   "id": "62544ef6",
   "metadata": {},
   "outputs": [
    {
     "name": "stdout",
     "output_type": "stream",
     "text": [
      "Byte sizes:\n",
      "Integer tensor size: 32\n",
      "Float tensor size: 16\n"
     ]
    }
   ],
   "source": [
    "# Create a 2D tensor with integer values\n",
    "tensor_int = torch.tensor([[1, 2], [3, 4]])\n",
    "\n",
    "# Create a 2D tensor with float values\n",
    "tensor_float = torch.tensor([[1.0, 2.0], [3.0, 4.0]])\n",
    "\n",
    "# Calculate byte sizes\n",
    "byte_size_int = tensor_int.element_size() * tensor_int.numel()\n",
    "byte_size_float = tensor_float.element_size() * tensor_float.numel()\n",
    "\n",
    "print(\"Byte sizes:\")\n",
    "print(\"Integer tensor size:\", byte_size_int)\n",
    "print(\"Float tensor size:\", byte_size_float)"
   ]
  },
  {
   "cell_type": "code",
   "execution_count": 11,
   "id": "1a9798c9",
   "metadata": {},
   "outputs": [
    {
     "name": "stdout",
     "output_type": "stream",
     "text": [
      "Default data type for integers: torch.int64\n",
      "Default data type for floats: torch.float32\n"
     ]
    }
   ],
   "source": [
    "# Check the default data type\n",
    "print(\"Default data type for integers:\", tensor_int.dtype)\n",
    "print(\"Default data type for floats:\", tensor_float.dtype)"
   ]
  },
  {
   "cell_type": "code",
   "execution_count": 12,
   "id": "10a7a417",
   "metadata": {},
   "outputs": [
    {
     "name": "stdout",
     "output_type": "stream",
     "text": [
      "Byte size after changing to int16: 4\n",
      "Byte size after changing to float16: 8\n"
     ]
    }
   ],
   "source": [
    "# Change the data type to int8 (8-bit integer)\n",
    "tensor_int = tensor_int.to(torch.int8)\n",
    "\n",
    "# Change the data type to float16 (16-bit floating-point)\n",
    "tensor_float = tensor_float.to(torch.float16)\n",
    "\n",
    "# Calculate the byte size\n",
    "byte_size_int = tensor_int.element_size() * tensor_int.numel()\n",
    "byte_size_float = tensor_float.element_size() * tensor_float.numel()\n",
    "\n",
    "print(\"Byte size after changing to int16:\", byte_size_int)\n",
    "print(\"Byte size after changing to float16:\", byte_size_float)"
   ]
  },
  {
   "cell_type": "code",
   "execution_count": null,
   "id": "5548fc23",
   "metadata": {},
   "outputs": [],
   "source": []
  }
 ],
 "metadata": {
  "kernelspec": {
   "display_name": "Python 3 (ipykernel)",
   "language": "python",
   "name": "python3"
  },
  "language_info": {
   "codemirror_mode": {
    "name": "ipython",
    "version": 3
   },
   "file_extension": ".py",
   "mimetype": "text/x-python",
   "name": "python",
   "nbconvert_exporter": "python",
   "pygments_lexer": "ipython3",
   "version": "3.10.11"
  }
 },
 "nbformat": 4,
 "nbformat_minor": 5
}
